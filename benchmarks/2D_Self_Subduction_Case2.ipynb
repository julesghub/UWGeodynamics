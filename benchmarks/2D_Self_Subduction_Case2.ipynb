{
 "cells": [
  {
   "cell_type": "markdown",
   "metadata": {},
   "source": [
    "# Self Subduction Case 2"
   ]
  },
  {
   "cell_type": "code",
   "execution_count": null,
   "metadata": {},
   "outputs": [],
   "source": [
    "import UWGeodynamics as GEO\n",
    "import numpy as np\n",
    "from UWGeodynamics import visualisation as vis"
   ]
  },
  {
   "cell_type": "code",
   "execution_count": null,
   "metadata": {},
   "outputs": [],
   "source": [
    "u = GEO.UnitRegistry"
   ]
  },
  {
   "cell_type": "code",
   "execution_count": null,
   "metadata": {},
   "outputs": [],
   "source": [
    "half_rate = 1.0 * u.centimeter / u.year\n",
    "model_length = 3000. * u.kilometer\n",
    "surfaceTemp = 273.15 * u.degK\n",
    "baseModelTemp = 1603.15 * u.degK\n",
    "bodyforce = 3300 * u.kilogram / u.metre**3 * 9.81 * u.meter / u.second**2\n",
    "\n",
    "KL = model_length\n",
    "Kt = KL / half_rate\n",
    "KM = bodyforce * KL**2 * Kt**2\n",
    "KT = (baseModelTemp - surfaceTemp)\n",
    "\n",
    "GEO.scaling_coefficients[\"[length]\"] = KL\n",
    "GEO.scaling_coefficients[\"[time]\"] = Kt\n",
    "GEO.scaling_coefficients[\"[mass]\"]= KM\n",
    "GEO.scaling_coefficients[\"[temperature]\"] = KT"
   ]
  },
  {
   "cell_type": "code",
   "execution_count": null,
   "metadata": {},
   "outputs": [],
   "source": [
    "Model = GEO.Model(elementRes=(256, 128), \n",
    "                  minCoord=(-1500. * u.kilometer, -700. * u.kilometer), \n",
    "                  maxCoord=(1500. * u.kilometer, 50. * u.kilometer), \n",
    "                  gravity=(0.0, -9.81 * u.meter / u.second**2))"
   ]
  },
  {
   "cell_type": "code",
   "execution_count": null,
   "metadata": {},
   "outputs": [],
   "source": [
    "angle = 34.0 * u.degree\n",
    "dx1 = np.cos(angle) * 375. * u.kilometer\n",
    "dy1 = np.sin(angle) * 375. * u.kilometer \n",
    "dx2 = np.sin(angle) * 100. * u.kilometer\n",
    "dy2 = np.cos(angle) * 100. * u.kilometer"
   ]
  },
  {
   "cell_type": "code",
   "execution_count": null,
   "metadata": {},
   "outputs": [],
   "source": [
    "polygon1 = GEO.shapes.Polygon([(-500. * u.kilometer, 0. * u.kilometer),\n",
    "                              (-500. * u.kilometer - dx1, 0. * u.kilometer - dy1),\n",
    "                              (-500. * u.kilometer - dx1 + dx2, 0. * u.kilometer - dy1 - dy2),\n",
    "                              (-500. * u.kilometer + dx2, 0. * u.kilometer - dy2)])\n",
    "\n",
    "polygon2 = GEO.shapes.Polygon([(-500. * u.kilometer, 0. * u.kilometer),\n",
    "                              (-500. * u.kilometer, -100. * u.kilometer),\n",
    "                              (1500. * u.kilometer , -100. * u.kilometer),\n",
    "                              (1500. * u.kilometer, 0. * u.kilometer)])\n",
    "\n",
    "polygon = polygon1 + polygon2"
   ]
  },
  {
   "cell_type": "code",
   "execution_count": null,
   "metadata": {},
   "outputs": [],
   "source": [
    "stickyAir = Model.add_material(name=\"Mantle\", shape=GEO.shapes.Layer(top=Model.top, bottom=0. * u.kilometer))\n",
    "Mantle = Model.add_material(name=\"Mantle\", shape=GEO.shapes.Layer(top=0.*u.kilometer, bottom=Model.bottom))\n",
    "Lithosphere = Model.add_material(name=\"Lithosphere\", shape=polygon)"
   ]
  },
  {
   "cell_type": "code",
   "execution_count": null,
   "metadata": {},
   "outputs": [],
   "source": [
    "Fig = vis.Figure(figsize=(1200,400))\n",
    "Fig.Points(Model.swarm, Model.materialField)\n",
    "Fig.show()"
   ]
  },
  {
   "cell_type": "code",
   "execution_count": null,
   "metadata": {},
   "outputs": [],
   "source": [
    "tip_tracer1 = Model.add_passive_tracers(name=\"tip tracer 1\", vertices=[GEO.nd(-500. * u.kilometer - dx1), GEO.nd(0. * u.kilometer - dy1)])\n",
    "tip_tracer2 = Model.add_passive_tracers(name=\"tip tracer 2\", vertices=[GEO.nd(-500. * u.kilometer - dx1 + dx2/2.0), GEO.nd(0. * u.kilometer - dy1 - dy2/2.0)])\n",
    "tip_tracer3 = Model.add_passive_tracers(name=\"tip tracer 3\", vertices=[GEO.nd(-500. * u.kilometer - dx1 + dx2), GEO.nd(0. * u.kilometer - dy1 - dy2)])"
   ]
  },
  {
   "cell_type": "code",
   "execution_count": null,
   "metadata": {},
   "outputs": [],
   "source": [
    "from UWGeodynamics import visualisation as vis\n",
    "Fig = vis.Figure(figsize=(1200,400))\n",
    "Fig.Points(tip_tracer1.swarm, pointSize=5.0)\n",
    "Fig.Points(tip_tracer2.swarm, pointSize=5.0)\n",
    "Fig.Points(tip_tracer3.swarm, pointSize=5.0)\n",
    "Fig.Points(Model.swarm, Model.materialField, fn_size=3.0)\n",
    "Fig.show()"
   ]
  },
  {
   "cell_type": "code",
   "execution_count": null,
   "metadata": {},
   "outputs": [],
   "source": [
    "stickyAir.viscosity = 1e19 * u.pascal * u.second\n",
    "Mantle.viscosity = 1e21 * u.pascal * u.second\n",
    "Lithosphere.viscosity = 1e23 * u.pascal * u.second"
   ]
  },
  {
   "cell_type": "code",
   "execution_count": null,
   "metadata": {},
   "outputs": [],
   "source": [
    "stickyAir.density = 1. * u.kilogram / u.metre**3\n",
    "Mantle.density = 3200. * u.kilogram / u.metre**3\n",
    "Lithosphere.density = 3300. * u.kilogram / u.metre**3"
   ]
  },
  {
   "cell_type": "code",
   "execution_count": null,
   "metadata": {},
   "outputs": [],
   "source": [
    "Fig = vis.Figure(figsize=(1200,400))\n",
    "Fig.Points(Model.swarm, GEO.Dimensionalize(Model.densityField, u.kilogram / u.metre**3))\n",
    "Fig.show()"
   ]
  },
  {
   "cell_type": "code",
   "execution_count": null,
   "metadata": {},
   "outputs": [],
   "source": [
    "Fig = vis.Figure(figsize=(1200,400))\n",
    "Fig.Points(Model.swarm, GEO.Dimensionalize(Model.viscosityField, u.pascal * u.second))\n",
    "Fig.show()"
   ]
  },
  {
   "cell_type": "code",
   "execution_count": null,
   "metadata": {},
   "outputs": [],
   "source": [
    "Model.set_velocityBCs(left=[0., None],\n",
    "                      right=[0., None],\n",
    "                      bottom=[None, 0.],\n",
    "                      top=[None, 0.])"
   ]
  },
  {
   "cell_type": "code",
   "execution_count": null,
   "metadata": {},
   "outputs": [],
   "source": [
    "Model.init_model()"
   ]
  },
  {
   "cell_type": "code",
   "execution_count": null,
   "metadata": {},
   "outputs": [],
   "source": [
    "GEO.rcParams[\"solver\"] = \"mumps\"\n",
    "GEO.rcParams[\"penalty\"] = 1e6"
   ]
  },
  {
   "cell_type": "code",
   "execution_count": null,
   "metadata": {},
   "outputs": [],
   "source": [
    "Model.run_for(100. * u.megayears, checkpoint_interval=1.0 * u.megayears)"
   ]
  }
 ],
 "metadata": {
  "kernelspec": {
   "display_name": "Python 3",
   "language": "python",
   "name": "python3"
  },
  "language_info": {
   "codemirror_mode": {
    "name": "ipython",
    "version": 3
   },
   "file_extension": ".py",
   "mimetype": "text/x-python",
   "name": "python",
   "nbconvert_exporter": "python",
   "pygments_lexer": "ipython3",
   "version": "3.5.3"
  }
 },
 "nbformat": 4,
 "nbformat_minor": 2
}
