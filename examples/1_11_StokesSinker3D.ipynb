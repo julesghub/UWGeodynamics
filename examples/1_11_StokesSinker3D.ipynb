{
 "cells": [
  {
   "cell_type": "markdown",
   "metadata": {},
   "source": [
    "# Stokes Sinker\n",
    "\n",
    "Demonstration example for setting up particle swarms with different material properties. This system consists of a dense, high viscosity sphere falling through a background lower density and viscosity fluid. "
   ]
  },
  {
   "cell_type": "code",
   "execution_count": 1,
   "metadata": {},
   "outputs": [
    {
     "name": "stdout",
     "output_type": "stream",
     "text": [
      "loaded rc file /usr/local/lib/python3.5/dist-packages/UWGeodynamics/uwgeo-data/uwgeodynamicsrc\n"
     ]
    }
   ],
   "source": [
    "import UWGeodynamics as GEO\n",
    "from UWGeodynamics import visualisation as vis"
   ]
  },
  {
   "cell_type": "code",
   "execution_count": 2,
   "metadata": {},
   "outputs": [],
   "source": [
    "u = GEO.UnitRegistry"
   ]
  },
  {
   "cell_type": "code",
   "execution_count": 3,
   "metadata": {},
   "outputs": [],
   "source": [
    "velocity = 1.0 * u.centimeter / u.hour\n",
    "model_length = 2. * u.meter\n",
    "model_height = 1. * u.meter\n",
    "refViscosity = 1e6 * u.pascal * u.second\n",
    "bodyforce = 200 * u.kilogram / u.metre**3 * 9.81 * u.meter / u.second**2\n",
    "\n",
    "KL = model_height\n",
    "Kt = KL / velocity\n",
    "KM = bodyforce * KL**2 * Kt**2\n",
    "\n",
    "GEO.scaling_coefficients[\"[length]\"] = KL\n",
    "GEO.scaling_coefficients[\"[time]\"] = Kt\n",
    "GEO.scaling_coefficients[\"[mass]\"]= KM"
   ]
  },
  {
   "cell_type": "code",
   "execution_count": 4,
   "metadata": {},
   "outputs": [],
   "source": [
    "Model = GEO.Model(elementRes=(16, 16, 16), \n",
    "                  minCoord=(-1. * u.meter, -1. * u.meter, -50. * u.centimeter), \n",
    "                  maxCoord=(1. * u.meter, 1. * u.meter, 50. * u.centimeter),\n",
    "                  gravity =(0.0, 0.0, -9.81 * u.meter / u.second**2) )"
   ]
  },
  {
   "cell_type": "code",
   "execution_count": 5,
   "metadata": {},
   "outputs": [],
   "source": [
    "Model.outputDir = \"1_11_StokesSinker3D\""
   ]
  },
  {
   "cell_type": "code",
   "execution_count": 6,
   "metadata": {},
   "outputs": [],
   "source": [
    "lightMaterial = Model.add_material(name=\"Light\", shape=GEO.shapes.Layer3D(top=Model.top, bottom=Model.bottom))\n",
    "heavyMaterial = Model.add_material(name=\"Heavy\", shape=GEO.shapes.Sphere(center=(0., 0., 20.*u.centimetre), radius=20. * u.centimetre))"
   ]
  },
  {
   "cell_type": "code",
   "execution_count": 7,
   "metadata": {},
   "outputs": [],
   "source": [
    "lightMaterial.density = 10 * u.kilogram / u.metre**3\n",
    "heavyMaterial.density = 500 * u.kilogram / u.metre**3\n",
    "\n",
    "lightMaterial.viscosity = GEO.ConstantViscosity(1e6 * u.pascal * u.second)\n",
    "heavyMaterial.viscosity = GEO.ConstantViscosity(1e6 * u.pascal * u.second)"
   ]
  },
  {
   "cell_type": "code",
   "execution_count": 8,
   "metadata": {},
   "outputs": [
    {
     "data": {
      "text/plain": [
       "<underworld.conditions._conditions.DirichletCondition at 0x7fb0da836ef0>"
      ]
     },
     "execution_count": 8,
     "metadata": {},
     "output_type": "execute_result"
    }
   ],
   "source": [
    "Model.set_velocityBCs(left=[0, None, None],\n",
    "                      right=[0, None, None],\n",
    "                      top=[None, None, 0.],\n",
    "                      bottom=[None, None, 0], \n",
    "                      front=[None, 0., None],\n",
    "                      back=[None, 0., None])"
   ]
  },
  {
   "cell_type": "code",
   "execution_count": null,
   "metadata": {},
   "outputs": [],
   "source": [
    "Fig = vis.Figure()\n",
    "Fig.Surface(Model.mesh, Model.projMaterialField, cullface=False, opacity=0.5)\n",
    "viewer = Fig.viewer(resolution=(1200,600))\n",
    "viewer.window()"
   ]
  },
  {
   "cell_type": "code",
   "execution_count": 10,
   "metadata": {},
   "outputs": [],
   "source": [
    "Model.init_model()"
   ]
  },
  {
   "cell_type": "code",
   "execution_count": 11,
   "metadata": {},
   "outputs": [
    {
     "name": "stdout",
     "output_type": "stream",
     "text": [
      "Running with UWGeodynamics version 2.8.1-dev-efa530e(development)\n",
      "Options:  -remove_constant_pressure_null_space False -pc_type none -restore_K False -ksp_k2_type NULL -rescale_equations False -ksp_type bsscr -change_backsolve False -Q22_pc_type uw -change_A11rhspresolve False -A11_ksp_type fgmres -A11_ksp_rtol 1e-06 -scr_ksp_type fgmres -scr_ksp_rtol 1e-05\n",
      "Step:     1 Model Time: 6.0 minute dt: 6.0 minute (2019-09-06 00:37:27)\n",
      "Step:     2 Model Time: 12.0 minute dt: 6.0 minute (2019-09-06 00:37:36)\n",
      "Step:     3 Model Time: 18.0 minute dt: 6.0 minute (2019-09-06 00:37:45)\n",
      "Step:     4 Model Time: 24.0 minute dt: 6.0 minute (2019-09-06 00:37:55)\n",
      "Step:     5 Model Time: 30.0 minute dt: 6.0 minute (2019-09-06 00:38:04)\n",
      "Step:     6 Model Time: 36.0 minute dt: 6.0 minute (2019-09-06 00:38:13)\n",
      "Step:     7 Model Time: 42.0 minute dt: 6.0 minute (2019-09-06 00:38:22)\n",
      "Step:     8 Model Time: 48.0 minute dt: 6.0 minute (2019-09-06 00:38:32)\n",
      "Step:     9 Model Time: 0.9 hour dt: 6.0 minute (2019-09-06 00:38:41)\n",
      "Step:    10 Model Time: 1.0 hour dt: 6.0 minute (2019-09-06 00:38:50)\n",
      "Step:    11 Model Time: 1.1 hour dt: 6.0 minute (2019-09-06 00:38:59)\n",
      "Step:    12 Model Time: 1.2 hour dt: 6.0 minute (2019-09-06 00:39:10)\n",
      "Step:    13 Model Time: 1.3 hour dt: 6.0 minute (2019-09-06 00:39:20)\n",
      "Step:    14 Model Time: 1.4 hour dt: 6.0 minute (2019-09-06 00:39:29)\n",
      "Step:    15 Model Time: 1.5 hour dt: 6.0 minute (2019-09-06 00:39:39)\n",
      "Step:    16 Model Time: 1.6 hour dt: 6.0 minute (2019-09-06 00:39:48)\n",
      "Step:    17 Model Time: 1.7 hour dt: 6.0 minute (2019-09-06 00:39:58)\n",
      "Step:    18 Model Time: 1.8 hour dt: 6.0 minute (2019-09-06 00:40:07)\n",
      "Step:    19 Model Time: 1.9 hour dt: 6.0 minute (2019-09-06 00:40:17)\n",
      "Step:    20 Model Time: 2.0 hour dt: 6.0 minute (2019-09-06 00:40:27)\n",
      "Step:    21 Model Time: 2.1 hour dt: 6.0 minute (2019-09-06 00:40:36)\n",
      "Step:    22 Model Time: 2.2 hour dt: 6.0 minute (2019-09-06 00:40:46)\n",
      "Step:    23 Model Time: 2.3 hour dt: 6.0 minute (2019-09-06 00:40:55)\n",
      "Step:    24 Model Time: 2.4 hour dt: 6.0 minute (2019-09-06 00:41:04)\n",
      "Step:    25 Model Time: 2.5 hour dt: 6.0 minute (2019-09-06 00:41:14)\n",
      "Step:    26 Model Time: 2.6 hour dt: 6.0 minute (2019-09-06 00:41:24)\n",
      "Step:    27 Model Time: 2.7 hour dt: 6.0 minute (2019-09-06 00:41:34)\n",
      "Step:    28 Model Time: 2.8 hour dt: 6.0 minute (2019-09-06 00:41:43)\n",
      "Step:    29 Model Time: 2.9 hour dt: 6.0 minute (2019-09-06 00:41:53)\n",
      "Step:    30 Model Time: 3.0 hour dt: 6.0 minute (2019-09-06 00:41:58)\n"
     ]
    },
    {
     "data": {
      "text/plain": [
       "1"
      ]
     },
     "execution_count": 11,
     "metadata": {},
     "output_type": "execute_result"
    }
   ],
   "source": [
    "Model.run_for(3.0 * u.hours, checkpoint_interval=0.1 * u.hours)"
   ]
  }
 ],
 "metadata": {
  "kernelspec": {
   "display_name": "Python 3",
   "language": "python",
   "name": "python3"
  },
  "language_info": {
   "codemirror_mode": {
    "name": "ipython",
    "version": 3
   },
   "file_extension": ".py",
   "mimetype": "text/x-python",
   "name": "python",
   "nbconvert_exporter": "python",
   "pygments_lexer": "ipython3",
   "version": "3.5.3"
  }
 },
 "nbformat": 4,
 "nbformat_minor": 2
}
